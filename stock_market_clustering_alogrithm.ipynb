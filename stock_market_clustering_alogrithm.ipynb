{
  "nbformat": 4,
  "nbformat_minor": 0,
  "metadata": {
    "colab": {
      "name": "stock_market_clustering_alogrithm.ipynb",
      "provenance": [],
      "private_outputs": true,
      "collapsed_sections": [],
      "authorship_tag": "ABX9TyMWyrGDwCdSAqucg/tsQTqV",
      "include_colab_link": true
    },
    "kernelspec": {
      "name": "python3",
      "display_name": "Python 3"
    }
  },
  "cells": [
    {
      "cell_type": "markdown",
      "metadata": {
        "id": "view-in-github",
        "colab_type": "text"
      },
      "source": [
        "<a href=\"https://colab.research.google.com/github/amovar18/machinelearningproject/blob/master/stock_market_clustering_alogrithm.ipynb\" target=\"_parent\"><img src=\"https://colab.research.google.com/assets/colab-badge.svg\" alt=\"Open In Colab\"/></a>"
      ]
    },
    {
      "cell_type": "code",
      "metadata": {
        "id": "zfNeA_v-xMoo",
        "colab_type": "code",
        "colab": {}
      },
      "source": [
        "import sys\n",
        "import sklearn\n",
        "import pandas as pd\n",
        "import numpy as np\n",
        "from pandas_datareader import data\n",
        "import matplotlib.pyplot as plt\n",
        "from datetime import datetime"
      ],
      "execution_count": 0,
      "outputs": []
    },
    {
      "cell_type": "code",
      "metadata": {
        "id": "0CIvYuQwz8ZN",
        "colab_type": "code",
        "colab": {}
      },
      "source": [
        "#defines the instruments to download\n",
        "companies_dict={\n",
        "    \"Amazon\":\"AMZN\",\n",
        "    \"Apple\":\"AAPL\",\n",
        "    \"Walgreen\":\"WBA\",\n",
        "    \"Northgrop Gruman\":\"NOC\",\n",
        "    \"Boeing\":\"BA\",\n",
        "    \"Lockheed Martin\":\"LMT\",\n",
        "    \"McDonalds\":\"MCD\",\n",
        "    \"IBM\":\"IBM\",\n",
        "    \"Intel\":\"INTC\",\n",
        "    \"Navistar\":\"NAV\",\n",
        "    \"Texas Instruments\":\"TXN\",\n",
        "    \"Microsoft\":\"MSFT\",\n",
        "    \"Mastercard\":\"MA\",\n",
        "    \"General Electrics\":\"GE\",\n",
        "    \"Pepsi\":\"PEP\",\n",
        "    \"Coca cola\":\"KO\",\n",
        "    \"Sony\":\"SNE\",\n",
        "    \"Misubishi\":\"MSBHY\",\n",
        "    \"Exxon\":\"XOM\",\n",
        "    \"Ford\":\"F\",\n",
        "    \"Valero Energy\":\"VLO\",\n",
        "    \"Bank of America\":\"BAC\",\n",
        "    \"Chevron\":\"CVX\",\n",
        "    \"Jhonson & Jhonson\":\"JNJ\",\n",
        "    \"American Express\":\"AXP\"\n",
        "}\n",
        "companies=sorted(companies_dict.items(),key=lambda x:x[1])\n",
        "print(companies)"
      ],
      "execution_count": 0,
      "outputs": []
    },
    {
      "cell_type": "code",
      "metadata": {
        "id": "k7ooXltv2FTA",
        "colab_type": "code",
        "colab": {}
      },
      "source": [
        "#define online source\n",
        "data_source=\"yahoo\"\n",
        "#start date of data_source\n",
        "start_date=datetime(2014,12,31)\n",
        "end_date=datetime(2017,12,31)\n",
        "#get data from source\n",
        "panel_data=data.DataReader(list(companies_dict.values()),data_source,start_date,end_date)\n",
        "print(panel_data.axes)"
      ],
      "execution_count": 0,
      "outputs": []
    },
    {
      "cell_type": "code",
      "metadata": {
        "id": "tXe_613y7MX5",
        "colab_type": "code",
        "colab": {}
      },
      "source": [
        "#data for stock movement\n",
        "stock_close=panel_data['Close']\n",
        "stock_open=panel_data['Open']"
      ],
      "execution_count": 0,
      "outputs": []
    },
    {
      "cell_type": "code",
      "metadata": {
        "id": "dxIax_P2rC2j",
        "colab_type": "code",
        "colab": {}
      },
      "source": [
        "#calculate daily stock movement(gains or losses in a day)\n",
        "stock_close=np.array(stock_close).T\n",
        "stock_open=np.array(stock_open).T\n",
        "row,col=stock_close.shape\n",
        "print(row)\n",
        "print(col)"
      ],
      "execution_count": 0,
      "outputs": []
    },
    {
      "cell_type": "code",
      "metadata": {
        "id": "8OS3K7fHrq5i",
        "colab_type": "code",
        "colab": {}
      },
      "source": [
        "#calculate daily stock movement\n",
        "movements=np.zeros([row,col])\n",
        "for i in range(0,row):\n",
        "  movements[i,:]=np.subtract(stock_close[i,:],stock_open[i,:])"
      ],
      "execution_count": 0,
      "outputs": []
    },
    {
      "cell_type": "code",
      "metadata": {
        "id": "B4KJIRVktPnx",
        "colab_type": "code",
        "colab": {}
      },
      "source": [
        "for i in range(0,len(companies)):\n",
        "  print(\"companies: {},change:{}\".format(companies[i][0],sum(movements[i][:])))"
      ],
      "execution_count": 0,
      "outputs": []
    },
    {
      "cell_type": "code",
      "metadata": {
        "id": "vdjzDbwctnRM",
        "colab_type": "code",
        "colab": {}
      },
      "source": [
        "#visualize plot stock movement\n",
        "plt.clf\n",
        "plt.figure(figsize=(18,16))\n",
        "ax1=plt.subplot(221)\n",
        "plt.plot(movements[0][:])\n",
        "plt.title(companies[0])\n",
        "\n",
        "ax1=plt.subplot(222,sharey=ax1)\n",
        "plt.plot(movements[1][:])\n",
        "plt.title(companies[1])\n",
        "\n",
        "plt.show()\n"
      ],
      "execution_count": 0,
      "outputs": []
    },
    {
      "cell_type": "code",
      "metadata": {
        "id": "FEcg68CXuYo3",
        "colab_type": "code",
        "colab": {}
      },
      "source": [
        "#use scikit learn to normalize\n",
        "from sklearn.preprocessing import Normalizer\n",
        "normalizer=Normalizer()\n",
        "new=normalizer.fit_transform(movements)\n",
        "\n",
        "print(new.min())\n",
        "print(new.max())\n",
        "print(new.mean())"
      ],
      "execution_count": 0,
      "outputs": []
    },
    {
      "cell_type": "code",
      "metadata": {
        "id": "M6OsWQ0PxR7o",
        "colab_type": "code",
        "colab": {}
      },
      "source": [
        "#visualize plot stock movement on normalized data\n",
        "plt.clf\n",
        "plt.figure(figsize=(18,16))\n",
        "ax1=plt.subplot(221)\n",
        "plt.plot(new[0][:])\n",
        "plt.title(companies[0])\n",
        "\n",
        "ax1=plt.subplot(222,sharey=ax1)\n",
        "plt.plot(new[1][:])\n",
        "plt.title(companies[1])\n",
        "\n",
        "plt.show()\n"
      ],
      "execution_count": 0,
      "outputs": []
    },
    {
      "cell_type": "code",
      "metadata": {
        "id": "NXYj3nS3xfnM",
        "colab_type": "code",
        "colab": {}
      },
      "source": [
        "#import necessary libs\n",
        "from sklearn.pipeline import make_pipeline\n",
        "from sklearn.cluster import KMeans\n",
        "#create  normalizer\n",
        "normalizer=Normalizer()\n",
        "#create kmeans mcluster model\n",
        "kmeans=KMeans(n_clusters=12,max_iter=1000)\n",
        "#create a pipeline\n",
        "pipeline=make_pipeline(normalizer,kmeans)"
      ],
      "execution_count": 0,
      "outputs": []
    },
    {
      "cell_type": "code",
      "metadata": {
        "id": "l0eZNuUNy69h",
        "colab_type": "code",
        "colab": {}
      },
      "source": [
        "#fit pipelines to daily stock movements\n",
        "pipeline.fit(movements)\n",
        "print(kmeans.inertia_)"
      ],
      "execution_count": 0,
      "outputs": []
    },
    {
      "cell_type": "code",
      "metadata": {
        "id": "I8DV4O_EzcLw",
        "colab_type": "code",
        "colab": {}
      },
      "source": [
        "#predict cluster labels\n",
        "labels=pipeline.predict(movements)\n",
        "#create dataframe of companies and labels\n",
        "dataframe=pd.DataFrame({\"labels\":labels,\"companies\":companies})\n",
        "print(dataframe.sort_values('labels'))"
      ],
      "execution_count": 0,
      "outputs": []
    },
    {
      "cell_type": "code",
      "metadata": {
        "id": "152GYOO00nOc",
        "colab_type": "code",
        "colab": {}
      },
      "source": [
        "from sklearn.decomposition import PCA\n",
        "#visualize results on pca graph\n",
        "reduced=PCA(n_components=2).fit_transform(new)\n",
        "kmeans=KMeans(n_clusters=10)\n",
        "kmeans.fit(reduced)\n",
        "labels=kmeans.predict(reduced)\n",
        "\n",
        "#align labels and companies\n",
        "new_label=pd.DataFrame({\"labels\":labels,\"companies\":companies})\n",
        "print(kmeans.inertia_)\n",
        "print(new_label.sort_values('labels'))"
      ],
      "execution_count": 0,
      "outputs": []
    },
    {
      "cell_type": "code",
      "metadata": {
        "id": "n_jCJCd-3FV_",
        "colab_type": "code",
        "colab": {}
      },
      "source": [
        "#meshgrid definition\n",
        "h=0.01\n",
        "#Define decision boundary\n",
        "xmin,xmax=reduced[:,0].min()-1,reduced[:,0].max()+1\n",
        "ymin,ymax=reduced[:,1].min()-1,reduced[:,1].max()+1\n",
        "xx,yy=np.meshgrid(np.arange(xmin,xmax,h),np.arange(ymin,ymax,h))\n",
        "#obtain labels for mesh using predicted model\n",
        "z=kmeans.predict(np.c_[xx.ravel(),yy.ravel()])\n",
        "#put results into color plot\n",
        "z=z.reshape(xx.shape)\n",
        "cmap=plt.cm.Paired\n",
        "#plot data\n",
        "plt.clf()\n",
        "plt.figure(figsize=(10,10))\n",
        "plt.imshow(z,interpolation='nearest',extent=(xx.min(),xx.max(),yy.min(),yy.max()),cmap=cmap,aspect='auto',origin='lower')\n",
        "plt.plot(reduced[:,0],reduced[:,1],'k.',markersize=5)\n",
        "#plot centroids\n",
        "centroids=kmeans.cluster_centers_\n",
        "plt.scatter(centroids[:,0],centroids[:,1],marker='x',s=169,linewidths=3,color='w',zorder=10)\n",
        "plt.title(\"Kmeans clustering on Stock market movements,PCA reduced data\")\n",
        "plt.xlim(xmin,xmax)\n",
        "plt.ylim(ymin,ymax)\n",
        "plt.show()"
      ],
      "execution_count": 0,
      "outputs": []
    },
    {
      "cell_type": "code",
      "metadata": {
        "id": "7Wu3b1cn6q7L",
        "colab_type": "code",
        "colab": {}
      },
      "source": [
        ""
      ],
      "execution_count": 0,
      "outputs": []
    }
  ]
}