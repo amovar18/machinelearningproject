{
  "nbformat": 4,
  "nbformat_minor": 0,
  "metadata": {
    "colab": {
      "name": "DNAclassification.ipynb",
      "provenance": [],
      "private_outputs": true,
      "authorship_tag": "ABX9TyNu/l4lEkgRpAGAVJ55i8VV",
      "include_colab_link": true
    },
    "kernelspec": {
      "name": "python3",
      "display_name": "Python 3"
    }
  },
  "cells": [
    {
      "cell_type": "markdown",
      "metadata": {
        "id": "view-in-github",
        "colab_type": "text"
      },
      "source": [
        "<a href=\"https://colab.research.google.com/github/amovar18/machinelearningproject/blob/master/DNAclassification.ipynb\" target=\"_parent\"><img src=\"https://colab.research.google.com/assets/colab-badge.svg\" alt=\"Open In Colab\"/></a>"
      ]
    },
    {
      "cell_type": "code",
      "metadata": {
        "id": "53dRSU6P5amj",
        "colab_type": "code",
        "colab": {}
      },
      "source": [
        "import sys\n",
        "import pandas as pd\n",
        "import sklearn\n",
        "import numpy as np\n",
        "names=['Class','id','sequence']\n",
        "df=pd.read_csv(\"/content/promoters.data\",names=names)\n",
        "df.iloc[:5]"
      ],
      "execution_count": 0,
      "outputs": []
    },
    {
      "cell_type": "code",
      "metadata": {
        "id": "CNhSj6DS7uLO",
        "colab_type": "code",
        "colab": {}
      },
      "source": [
        "#build dataset\n",
        "#each column in data frame is called series\n",
        "classes=df.loc[:,'Class']"
      ],
      "execution_count": 0,
      "outputs": []
    },
    {
      "cell_type": "code",
      "metadata": {
        "id": "0MWR9ByO9lhe",
        "colab_type": "code",
        "colab": {}
      },
      "source": [
        "#generate list of DNA sequence\n",
        "sequences=list(df.loc[:,'sequence'])\n",
        "dataset={}\n",
        "#loop through sequences and split into neucleotides\n",
        "for i,seq in enumerate(sequences):\n",
        "  #remove tabs and split nucleotides\n",
        "  nucleotides=list(seq)\n",
        "  nucleotides=[x for x in nucleotides if x!='\\t']\n",
        "  nucleotides.append(classes[i])\n",
        "  dataset[i]=nucleotides"
      ],
      "execution_count": 0,
      "outputs": []
    },
    {
      "cell_type": "code",
      "metadata": {
        "id": "FDzhpSgc-v7y",
        "colab_type": "code",
        "colab": {}
      },
      "source": [
        "#convert dataset to a dataframe\n",
        "data=pd.DataFrame(dataset)\n",
        "data=data.transpose()\n",
        "print(data.iloc[:4])"
      ],
      "execution_count": 0,
      "outputs": []
    },
    {
      "cell_type": "code",
      "metadata": {
        "id": "ahQnsm9N_SuF",
        "colab_type": "code",
        "colab": {}
      },
      "source": [
        "data.rename(columns={57:\"Class\"},inplace=True)"
      ],
      "execution_count": 0,
      "outputs": []
    },
    {
      "cell_type": "code",
      "metadata": {
        "id": "7VHU0iKE_6Z-",
        "colab_type": "code",
        "colab": {}
      },
      "source": [
        "#record value counts for each sequence\n",
        "series=[]\n",
        "for name in data.columns:\n",
        "  series.append(data[name].value_counts())\n",
        "info=pd.DataFrame(series)\n",
        "info=info.transpose()\n",
        "print(info)"
      ],
      "execution_count": 0,
      "outputs": []
    },
    {
      "cell_type": "code",
      "metadata": {
        "id": "TUqDHSTZAYSP",
        "colab_type": "code",
        "colab": {}
      },
      "source": [
        "#switch to numerical data using get_dummmies\n",
        "numerical_data=pd.get_dummies(data)\n",
        "numerical_data.iloc[:5]"
      ],
      "execution_count": 0,
      "outputs": []
    },
    {
      "cell_type": "code",
      "metadata": {
        "id": "QoGfmsbTA_4T",
        "colab_type": "code",
        "colab": {}
      },
      "source": [
        "df=numerical_data.drop(columns=['Class_-'])\n",
        "df.rename(columns={\"Class_+\":\"Class\"},inplace=True)\n",
        "df.iloc[:5]"
      ],
      "execution_count": 0,
      "outputs": []
    },
    {
      "cell_type": "code",
      "metadata": {
        "id": "YU9Rv_VuBnZN",
        "colab_type": "code",
        "colab": {}
      },
      "source": [
        "#splitting into training and testing dataset\n",
        "from sklearn import model_selection\n",
        "from sklearn.neighbors import KNeighborsClassifier\n",
        "from sklearn.neural_network import MLPClassifier\n",
        "from sklearn.gaussian_process import GaussianProcessClassifier\n",
        "from sklearn.gaussian_process.kernels import RBF\n",
        "from sklearn.metrics import classification_report,accuracy_score\n",
        "from sklearn.tree import DecisionTreeClassifier\n",
        "from sklearn.naive_bayes import GaussianNB\n",
        "from sklearn.ensemble import RandomForestClassifier,AdaBoostClassifier\n",
        "from sklearn.svm import SVC\n",
        "#define scoring method\n",
        "scoring='accuracy'"
      ],
      "execution_count": 0,
      "outputs": []
    },
    {
      "cell_type": "code",
      "metadata": {
        "id": "oNnqupg3FxHv",
        "colab_type": "code",
        "colab": {}
      },
      "source": [
        "#create x and y datasets for training and testing\n",
        "x=np.array(df.drop(['Class'],1))\n",
        "y=np.array(df['Class'])\n",
        "#define a seed\n",
        "seed=1\n",
        "x_train,x_test,y_train,y_test=model_selection.train_test_split(x,y,test_size=0.25,random_state=seed)"
      ],
      "execution_count": 0,
      "outputs": []
    },
    {
      "cell_type": "code",
      "metadata": {
        "id": "HBOSjiybDFq0",
        "colab_type": "code",
        "colab": {}
      },
      "source": [
        "#define models to train\n",
        "names=['K Nearest Neighbors','GaussianProcess','Decision tree','Random Forest','Neural Net','AdaBoost','Naive bayes','SVMRBF','SVMLinear','SVMSigmoid']\n",
        "classifier={\n",
        "    KNeighborsClassifier(n_neighbors=3),\n",
        "    GaussianProcessClassifier(1.0*RBF(1.0)),\n",
        "    DecisionTreeClassifier(max_depth=5),\n",
        "    RandomForestClassifier(max_depth=5,n_estimators=10,max_features=1),\n",
        "    MLPClassifier(alpha=1),\n",
        "    AdaBoostClassifier(),\n",
        "    GaussianNB(),\n",
        "    SVC(kernel='rbf'),\n",
        "    SVC(kernel='linear'),\n",
        "    SVC(kernel='sigmoid')\n",
        "}\n",
        "models=zip(names,classifier)\n",
        "#result of models:\n",
        "names=[]\n",
        "results=[]\n",
        "for name,model in models:\n",
        "  kfold=model_selection.KFold(n_splits=10)\n",
        "  cvr=model_selection.cross_val_score(model,x_train,y_train,cv=kfold,scoring=scoring)\n",
        "  results.append(cvr)\n",
        "  names.append(name)\n",
        "  msg=\"{0}:{1},({2})\".format(name,cvr.mean(),cvr.std())\n",
        "  print(msg)\n",
        "\n",
        "models=zip(names,classifier)"
      ],
      "execution_count": 0,
      "outputs": []
    },
    {
      "cell_type": "code",
      "metadata": {
        "id": "wa70De34KQyz",
        "colab_type": "code",
        "colab": {}
      },
      "source": [
        "\n",
        "#testing on the testing data set\n",
        "for name, model in models:\n",
        "  model.fit(x_train,y_train)\n",
        "  pred=model.predict(x_test)\n",
        "  print(name)\n",
        "  print(accuracy_score(y_test,pred))\n",
        "  print(classification_report(y_test,pred))"
      ],
      "execution_count": 0,
      "outputs": []
    },
    {
      "cell_type": "code",
      "metadata": {
        "id": "OAqhmY7qMf5V",
        "colab_type": "code",
        "colab": {}
      },
      "source": [
        ""
      ],
      "execution_count": 0,
      "outputs": []
    }
  ]
}