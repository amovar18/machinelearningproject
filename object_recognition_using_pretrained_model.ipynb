{
  "nbformat": 4,
  "nbformat_minor": 0,
  "metadata": {
    "colab": {
      "name": "object-recognition-using-pretrained-model.ipynb",
      "provenance": [],
      "collapsed_sections": [],
      "authorship_tag": "ABX9TyOq+lW/TRl8JF0BQNf9NO7V",
      "include_colab_link": true
    },
    "kernelspec": {
      "name": "python3",
      "display_name": "Python 3"
    },
    "accelerator": "TPU"
  },
  "cells": [
    {
      "cell_type": "markdown",
      "metadata": {
        "id": "view-in-github",
        "colab_type": "text"
      },
      "source": [
        "<a href=\"https://colab.research.google.com/github/amovar18/machinelearningproject/blob/master/object_recognition_using_pretrained_model.ipynb\" target=\"_parent\"><img src=\"https://colab.research.google.com/assets/colab-badge.svg\" alt=\"Open In Colab\"/></a>"
      ]
    },
    {
      "cell_type": "code",
      "metadata": {
        "id": "r92JgSc7Of8F",
        "colab_type": "code",
        "colab": {}
      },
      "source": [
        "from keras.applications.imagenet_utils import decode_predictions\n",
        "from keras.datasets import cifar100\n",
        "import numpy as np\n",
        "import matplotlib.pyplot as plt\n",
        "from keras.utils import np_utils\n",
        "import sklearn\n",
        "from PIL import Image\n",
        "from keras.preprocessing import image as image_utils\n",
        "from keras.applications import VGG16\n",
        "import cv2"
      ],
      "execution_count": 0,
      "outputs": []
    },
    {
      "cell_type": "code",
      "metadata": {
        "id": "89s0DC2te8hI",
        "colab_type": "code",
        "outputId": "dbefb48a-1d0f-41cb-8a1e-03341bee728f",
        "colab": {
          "base_uri": "https://localhost:8080/",
          "height": 35
        }
      },
      "source": [
        "img_path=\"imagepath\"\n",
        "img=image_utils.load_img(img_path,target_size=(224,224))\n",
        "arr=image_utils.img_to_array(img)\n",
        "arr=arr.reshape((1,)+arr.shape)\n",
        "arr=arr.transpose([0,1,2,3])\n",
        "arr.shape"
      ],
      "execution_count": 0,
      "outputs": [
        {
          "output_type": "execute_result",
          "data": {
            "text/plain": [
              "(1, 224, 224, 3)"
            ]
          },
          "metadata": {
            "tags": []
          },
          "execution_count": 10
        }
      ]
    },
    {
      "cell_type": "code",
      "metadata": {
        "id": "nkbDW9UJkS6C",
        "colab_type": "code",
        "outputId": "d11b58e4-9989-4adc-c3cb-8eb44c01cf49",
        "colab": {
          "base_uri": "https://localhost:8080/",
          "height": 237
        }
      },
      "source": [
        "model=VGG16(weights=\"imagenet\")\n",
        "prediction=model.predict(arr)\n",
        "pre=decode_predictions(prediction)\n",
        "print(pre)\n",
        "i=0\n",
        "for c in pre[i]:\n",
        "  label=c[1]\n",
        "  prob=c[2]*100\n",
        "  print(\"{} \\nAccuracy={}\".format(label,prob))"
      ],
      "execution_count": 0,
      "outputs": [
        {
          "output_type": "stream",
          "text": [
            "[[('n02089867', 'Walker_hound', 0.36262468), ('n02089973', 'English_foxhound', 0.18573004), ('n02100236', 'German_short-haired_pointer', 0.18397282), ('n02092339', 'Weimaraner', 0.10961376), ('n02088632', 'bluetick', 0.0443641)]]\n",
            "Walker_hound \n",
            "Accuracy=36.26246750354767\n",
            "English_foxhound \n",
            "Accuracy=18.573004007339478\n",
            "German_short-haired_pointer \n",
            "Accuracy=18.39728206396103\n",
            "Weimaraner \n",
            "Accuracy=10.961376130580902\n",
            "bluetick \n",
            "Accuracy=4.436409845948219\n"
          ],
          "name": "stdout"
        }
      ]
    },
    {
      "cell_type": "code",
      "metadata": {
        "id": "Ynuu8SgFlRzf",
        "colab_type": "code",
        "colab": {}
      },
      "source": [
        ""
      ],
      "execution_count": 0,
      "outputs": []
    }
  ]
}