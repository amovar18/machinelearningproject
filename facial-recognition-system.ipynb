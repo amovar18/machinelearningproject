{
  "nbformat": 4,
  "nbformat_minor": 0,
  "metadata": {
    "colab": {
      "name": "Untitled2.ipynb",
      "provenance": [],
      "authorship_tag": "ABX9TyO1VuMKHVJnMf5aROpSA+W1",
      "include_colab_link": true
    },
    "kernelspec": {
      "name": "python3",
      "display_name": "Python 3"
    },
    "accelerator": "GPU"
  },
  "cells": [
    {
      "cell_type": "markdown",
      "metadata": {
        "id": "view-in-github",
        "colab_type": "text"
      },
      "source": [
        "<a href=\"https://colab.research.google.com/github/amovar18/machinelearningproject/blob/master/facial-recognition-system.ipynb\" target=\"_parent\"><img src=\"https://colab.research.google.com/assets/colab-badge.svg\" alt=\"Open In Colab\"/></a>"
      ]
    },
    {
      "cell_type": "code",
      "metadata": {
        "id": "a3Md8gLt9FBG",
        "colab_type": "code",
        "colab": {
          "base_uri": "https://localhost:8080/",
          "height": 328
        },
        "outputId": "14ccc50e-9cba-4715-d9ee-5048f97ee91a"
      },
      "source": [
        "pip install face_recognition"
      ],
      "execution_count": 2,
      "outputs": [
        {
          "output_type": "stream",
          "text": [
            "Collecting face_recognition\n",
            "  Downloading https://files.pythonhosted.org/packages/1e/95/f6c9330f54ab07bfa032bf3715c12455a381083125d8880c43cbe76bb3d0/face_recognition-1.3.0-py2.py3-none-any.whl\n",
            "Requirement already satisfied: Pillow in /usr/local/lib/python3.6/dist-packages (from face_recognition) (7.0.0)\n",
            "Requirement already satisfied: Click>=6.0 in /usr/local/lib/python3.6/dist-packages (from face_recognition) (7.1.1)\n",
            "Requirement already satisfied: dlib>=19.7 in /usr/local/lib/python3.6/dist-packages (from face_recognition) (19.18.0)\n",
            "Requirement already satisfied: numpy in /usr/local/lib/python3.6/dist-packages (from face_recognition) (1.18.2)\n",
            "Collecting face-recognition-models>=0.3.0\n",
            "\u001b[?25l  Downloading https://files.pythonhosted.org/packages/cf/3b/4fd8c534f6c0d1b80ce0973d01331525538045084c73c153ee6df20224cf/face_recognition_models-0.3.0.tar.gz (100.1MB)\n",
            "\u001b[K     |████████████████████████████████| 100.2MB 55kB/s \n",
            "\u001b[?25hBuilding wheels for collected packages: face-recognition-models\n",
            "  Building wheel for face-recognition-models (setup.py) ... \u001b[?25l\u001b[?25hdone\n",
            "  Created wheel for face-recognition-models: filename=face_recognition_models-0.3.0-py2.py3-none-any.whl size=100566172 sha256=a3b3f12eb9c58da7ccaffaff7a075e2bed37c739d5268d07e9ac6a5ce0b5d3f4\n",
            "  Stored in directory: /root/.cache/pip/wheels/d2/99/18/59c6c8f01e39810415c0e63f5bede7d83dfb0ffc039865465f\n",
            "Successfully built face-recognition-models\n",
            "Installing collected packages: face-recognition-models, face-recognition\n",
            "Successfully installed face-recognition-1.3.0 face-recognition-models-0.3.0\n"
          ],
          "name": "stdout"
        }
      ]
    },
    {
      "cell_type": "code",
      "metadata": {
        "id": "1xKGgZBA7C3X",
        "colab_type": "code",
        "colab": {}
      },
      "source": [
        "import os\n",
        "import pickle\n",
        "from imutils import paths\n",
        "import cv2\n",
        "import dlib\n",
        "import face_recognition"
      ],
      "execution_count": 0,
      "outputs": []
    },
    {
      "cell_type": "code",
      "metadata": {
        "id": "wKjm3SaW7jvD",
        "colab_type": "code",
        "colab": {}
      },
      "source": [
        "imagePaths = list(paths.list_images(\"/content/dataset\"))\n",
        "knownencodings=[]\n",
        "knownnames=[]"
      ],
      "execution_count": 0,
      "outputs": []
    },
    {
      "cell_type": "code",
      "metadata": {
        "id": "ZOYi5bUEAHDO",
        "colab_type": "code",
        "colab": {
          "base_uri": "https://localhost:8080/",
          "height": 92
        },
        "outputId": "2493ab21-0609-453c-9ae3-eb927e600170"
      },
      "source": [
        "# loop over the image paths\n",
        "for (i, imagePath) in enumerate(imagePaths):\n",
        "  name = imagePath.split(os.path.sep)[-2]\n",
        "  image = cv2.imread(imagePath)\n",
        "  boxes=face_recognition.face_locations(image,model='cnn')    \n",
        "  encodings=face_recognition.face_encodings(image,boxes)\n",
        "  for encod in encodings:\n",
        "    knownencodings.append(encod)\n",
        "    knownnames.append(name)\n",
        "print(len(knownnames))\n",
        "print(knownnames)\n",
        "print(\"[INFO] serializing encodings...\")\n",
        "data = {\"encodings\": knownencodings, \"names\": knownnames}\n",
        "f = open(file='encodings.pickle', mode=\"wb\")\n",
        "f.write(pickle.dumps(data))\n",
        "f.close()"
      ],
      "execution_count": 75,
      "outputs": [
        {
          "output_type": "stream",
          "text": [
            "54\n",
            "['rachit', 'rachit', 'rachit', 'rachit', 'rachit', 'rachit', 'rachit', 'yagn', 'yagn', 'yagn', 'yagn', 'yagn', 'yagn', 'yagn', 'yagn', 'yagn', 'ashton kutcher', 'ashton kutcher', 'ashton kutcher', 'ashton kutcher', 'ashton kutcher', 'ashton kutcher', 'ashton kutcher', 'ashton kutcher', 'ashton kutcher', 'deven', 'deven', 'deven', 'deven', 'deven', 'deven', 'deven', 'deven', 'deven', 'pujan', 'pujan', 'pujan', 'pujan', 'pujan', 'pujan', 'pujan', 'pujan', 'pujan', 'pujan', 'angelina jolie', 'angelina jolie', 'angelina jolie', 'angelina jolie', 'angelina jolie', 'angelina jolie', 'angelina jolie', 'angelina jolie', 'angelina jolie', 'angelina jolie']\n",
            "[INFO] serializing encodings...\n"
          ],
          "name": "stdout"
        }
      ]
    },
    {
      "cell_type": "code",
      "metadata": {
        "id": "wOsMSMi3AJK2",
        "colab_type": "code",
        "colab": {
          "base_uri": "https://localhost:8080/",
          "height": 54
        },
        "outputId": "23a8195c-4720-4a4d-9854-970a1352c489"
      },
      "source": [
        "data = pickle.loads(open('encodings.pickle', \"rb\").read())\n",
        "# load the input image and convert it from BGR to RGB\n",
        "image = cv2.imread('/content/9.jpg')\n",
        "# detect the (x, y)-coordinates of the bounding boxes corresponding\n",
        "# to each face in the input image, then compute the facial embeddings\n",
        "# for each face\n",
        "print(\"[INFO] recognizing faces...\")\n",
        "boxes = face_recognition.face_locations(image,model='cnn')\n",
        "encodings = face_recognition.face_encodings(image, boxes)\n",
        "# initialize the list of names for each face detected\n",
        "names = []\n",
        "for encoding in encodings:\n",
        "\n",
        "\t# attempt to match each face in the input image to our known\n",
        "\t# encodings\n",
        "  matches = face_recognition.compare_faces(data[\"encodings\"],encoding)\n",
        "  name=\"Unknown\"\n",
        "  if True in matches:\n",
        "    matchedIdxs=[i for (i,b) in enumerate(matches) if b]\n",
        "    counts={}\n",
        "    for i in matchedIdxs:\n",
        "      name=data['names'][i]\n",
        "      counts[name]=counts.get(name,0)+1\n",
        "    name=max(counts,key=counts.get)\n",
        "  names.append(name)\n",
        "print(counts)"
      ],
      "execution_count": 100,
      "outputs": [
        {
          "output_type": "stream",
          "text": [
            "[INFO] recognizing faces...\n",
            "{'ashton kutcher': 9, 'pujan': 2}\n"
          ],
          "name": "stdout"
        }
      ]
    },
    {
      "cell_type": "code",
      "metadata": {
        "id": "F7-MhAp9AitV",
        "colab_type": "code",
        "colab": {}
      },
      "source": [
        ""
      ],
      "execution_count": 0,
      "outputs": []
    }
  ]
}