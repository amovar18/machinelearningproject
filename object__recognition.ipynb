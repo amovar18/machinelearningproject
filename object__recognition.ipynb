{
  "nbformat": 4,
  "nbformat_minor": 0,
  "metadata": {
    "colab": {
      "name": "object _recognition.ipynb",
      "provenance": [],
      "private_outputs": true,
      "collapsed_sections": [],
      "authorship_tag": "ABX9TyNvjHWDBzNV2lkQz/Rw270Z",
      "include_colab_link": true
    },
    "kernelspec": {
      "name": "python3",
      "display_name": "Python 3"
    },
    "accelerator": "GPU"
  },
  "cells": [
    {
      "cell_type": "markdown",
      "metadata": {
        "id": "view-in-github",
        "colab_type": "text"
      },
      "source": [
        "<a href=\"https://colab.research.google.com/github/amovar18/machinelearningproject/blob/master/object__recognition.ipynb\" target=\"_parent\"><img src=\"https://colab.research.google.com/assets/colab-badge.svg\" alt=\"Open In Colab\"/></a>"
      ]
    },
    {
      "cell_type": "code",
      "metadata": {
        "id": "ERAJYzJz5c_v",
        "colab_type": "code",
        "colab": {}
      },
      "source": [
        "import sys\n",
        "import numpy as np\n",
        "import matplotlib.pyplot as plt\n",
        "from keras.utils import np_utils\n",
        "import sklearn \n",
        "from keras.datasets import cifar10\n",
        "from PIL import Image"
      ],
      "execution_count": 0,
      "outputs": []
    },
    {
      "cell_type": "code",
      "metadata": {
        "id": "lNz3rI8TA1rK",
        "colab_type": "code",
        "colab": {}
      },
      "source": [
        "#load data as testing and training unit\n",
        "(xtrain,ytrain),(xtest,ytest)=cifar10.load_data()"
      ],
      "execution_count": 0,
      "outputs": []
    },
    {
      "cell_type": "code",
      "metadata": {
        "id": "2QsJ4hzjCARB",
        "colab_type": "code",
        "colab": {}
      },
      "source": [
        "print(xtrain.shape)\n",
        "print(xtest.shape)"
      ],
      "execution_count": 0,
      "outputs": []
    },
    {
      "cell_type": "code",
      "metadata": {
        "id": "gW__k0DXCOiu",
        "colab_type": "code",
        "colab": {}
      },
      "source": [
        "#create grid of 3*3 images\n",
        "for i in range(0,9):\n",
        "  plt.subplot(330+1+i)\n",
        "  img=xtrain[i].transpose([0,1,2])\n",
        "  plt.imshow(img)\n",
        "plt.show()"
      ],
      "execution_count": 0,
      "outputs": []
    },
    {
      "cell_type": "code",
      "metadata": {
        "id": "vU7kAEPgDELO",
        "colab_type": "code",
        "colab": {}
      },
      "source": [
        "#preprocessing the dataset\n",
        "#random seed for reproducablity\n",
        "seed=6\n",
        "np.random.seed(6)\n",
        "#load data again with seed\n",
        "(xtrain,ytrain),(xtest,ytest)=cifar10.load_data()\n",
        "#normalize input from 0 to 255 to 0.0 to 1.0\n",
        "xtrain=xtrain.astype('float32')\n",
        "xtest=xtest.astype('float32')\n",
        "xtrain=xtrain/255.0\n",
        "xtest=xtest/255.0"
      ],
      "execution_count": 0,
      "outputs": []
    },
    {
      "cell_type": "code",
      "metadata": {
        "id": "42477ST6FZVK",
        "colab_type": "code",
        "colab": {}
      },
      "source": [
        "#one hot vector for labels\n",
        "#hot encode output\n",
        "ytrain=np_utils.to_categorical(ytrain)\n",
        "ytest=np_utils.to_categorical(ytest)\n",
        "print(ytrain.shape)\n",
        "print(ytrain[0])"
      ],
      "execution_count": 0,
      "outputs": []
    },
    {
      "cell_type": "code",
      "metadata": {
        "id": "kw1gotJmGsvN",
        "colab_type": "code",
        "colab": {}
      },
      "source": [
        "#import necessary layers\n",
        "from keras.models import Sequential\n",
        "from keras.layers import Dropout,Activation,Conv2D,GlobalAveragePooling2D\n",
        "from keras.optimizers import SGD  "
      ],
      "execution_count": 0,
      "outputs": []
    },
    {
      "cell_type": "code",
      "metadata": {
        "id": "ViTkZm2sKFnT",
        "colab_type": "code",
        "colab": {}
      },
      "source": [
        "#define model function\n",
        "def all_cnn(weight=None):\n",
        "  #initialize model\n",
        "  model=Sequential()\n",
        "  #add model layers\n",
        "  model.add(Conv2D(96,(3,3),padding='same',input_shape=(32,32,3)))\n",
        "  model.add(Activation('relu'))\n",
        "  model.add(Conv2D(96,(3,3),padding='same'))\n",
        "  model.add(Activation('relu'))\n",
        "  model.add(Conv2D(96,(3,3),padding='same',strides=(2,2)))\n",
        "  model.add(Dropout(0.5))\n",
        "  model.add(Conv2D(192,(3,3),padding='same'))\n",
        "  model.add(Activation('relu'))\n",
        "  model.add(Conv2D(192,(3,3),padding='same'))\n",
        "  model.add(Activation('relu'))\n",
        "  model.add(Conv2D(192,(3,3),padding='same',strides=(2,2)))\n",
        "  model.add(Dropout(0.5))\n",
        "  \n",
        "  \n",
        "  model.add(Conv2D(192,(3,3),padding='same'))\n",
        "  model.add(Activation('relu'))\n",
        "  model.add(Conv2D(192,(1,1),padding='valid'))\n",
        "  model.add(Activation('relu'))\n",
        "  model.add(Conv2D(10,(1,1),padding='valid'))\n",
        "\n",
        "  model.add(GlobalAveragePooling2D())\n",
        "  model.add(Activation('softmax'))\n",
        "\n",
        "  if weight:\n",
        "    model.load_weights(weight)\n",
        "  return model"
      ],
      "execution_count": 0,
      "outputs": []
    },
    {
      "cell_type": "code",
      "metadata": {
        "id": "p8deQcnLNAEL",
        "colab_type": "code",
        "colab": {}
      },
      "source": [
        "#define hyper parameter\n",
        "learnin_rate=0.01\n",
        "weight_decay=1e-6\n",
        "momentum=0.9\n",
        "#build model\n",
        "model=all_cnn()\n",
        "sgd=SGD(learning_rate=learnin_rate,decay=weight_decay,momentum=momentum,nesterov=True)\n",
        "model.compile(loss='categorical_crossentropy',optimizer=sgd,metrics=['accuracy'])\n",
        "print (model.summary())"
      ],
      "execution_count": 0,
      "outputs": []
    },
    {
      "cell_type": "code",
      "metadata": {
        "id": "SaihzRajN2Yu",
        "colab_type": "code",
        "colab": {}
      },
      "source": [
        "epoch=350\n",
        "batch_size=32\n",
        "model.fit(xtrain,ytrain,validation_data=(xtest,ytest),epochs=epoch,batch_size=batch_size,verbose=1)"
      ],
      "execution_count": 0,
      "outputs": []
    },
    {
      "cell_type": "code",
      "metadata": {
        "id": "Dg0krjEgy0C9",
        "colab_type": "code",
        "colab": {}
      },
      "source": [
        "#define hyper parameter\n",
        "learnin_rate=0.01\n",
        "weight_decay=1e-6\n",
        "momentum=0.9\n",
        "weights=\"/content/all_cnn_weights_0.9088_0.4994.hdf5\"\n",
        "#build model\n",
        "model=all_cnn(weights)\n",
        "sgd=SGD(learning_rate=learnin_rate,decay=weight_decay,momentum=momentum,nesterov=True)\n",
        "model.compile(loss='categorical_crossentropy',optimizer=sgd,metrics=['accuracy'])\n",
        "print (model.summary())\n",
        "scores=model.evaluate(xtest,ytest,verbose=1)\n",
        "print(scores)"
      ],
      "execution_count": 0,
      "outputs": []
    },
    {
      "cell_type": "code",
      "metadata": {
        "id": "1bo0UFVB46nJ",
        "colab_type": "code",
        "colab": {}
      },
      "source": [
        "classes=range(0,10)\n",
        "names=[\n",
        "    'airplane',\n",
        "    'automobile',\n",
        "    'bird',\n",
        "    'cat',\n",
        "    'deer',\n",
        "    'dog',\n",
        "    'frog',\n",
        "    'horse',\n",
        "    'ship',\n",
        "    'truck']\n",
        "class_labels=dict(zip(classes,names))\n",
        "print(class_labels)"
      ],
      "execution_count": 0,
      "outputs": []
    },
    {
      "cell_type": "code",
      "metadata": {
        "id": "EFavEE866n2q",
        "colab_type": "code",
        "colab": {}
      },
      "source": [
        "#generate batch of 9 images\n",
        "batch=xtest[1000:1009]\n",
        "labels=np.argmax(ytest[1000:1009],axis=-1)\n",
        "predictions=model.predict(batch,verbose=1)"
      ],
      "execution_count": 0,
      "outputs": []
    },
    {
      "cell_type": "code",
      "metadata": {
        "id": "yfX1JUNt7Flv",
        "colab_type": "code",
        "colab": {}
      },
      "source": [
        "#convert the prediction to class probablities to class labels\n",
        "class_results=np.argmax(predictions,axis=-1)\n",
        "print(\"{}\".format(class_results))"
      ],
      "execution_count": 0,
      "outputs": []
    },
    {
      "cell_type": "code",
      "metadata": {
        "id": "LFY4i-nj8ucU",
        "colab_type": "code",
        "colab": {}
      },
      "source": [
        "#create grid of 3*3 images\n",
        "fig,axs=plt.subplots(3,3,figsize=(15,6))\n",
        "fig.subplots_adjust(hspace=1)\n",
        "axs=axs.flatten()\n",
        "for i,img in enumerate(batch):\n",
        "  for key,value in class_labels.items():\n",
        "    if class_results[i]==key:\n",
        "      title=\"prediction:{0} \\nactual:{1}\".format(class_labels[key],class_labels[labels[i]])\n",
        "      axs[i].set_title(title)\n",
        "      axs[i].axes.get_xaxis().set_visible(False)\n",
        "      axs[i].axes.get_yaxis().set_visible(False)\n",
        "  axs[i].imshow(img)\n",
        "plt.show()\n",
        "    "
      ],
      "execution_count": 0,
      "outputs": []
    }
  ]
}